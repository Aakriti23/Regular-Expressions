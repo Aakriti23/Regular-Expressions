{
 "cells": [
  {
   "cell_type": "markdown",
   "metadata": {},
   "source": [
    "### Extracting Data Fields from a PDF"
   ]
  },
  {
   "cell_type": "code",
   "execution_count": 19,
   "metadata": {
    "collapsed": true
   },
   "outputs": [],
   "source": [
    "#Importing the library\n",
    "import PyPDF2\n",
    "import pandas as pd\n",
    "import re"
   ]
  },
  {
   "cell_type": "code",
   "execution_count": 4,
   "metadata": {
    "collapsed": true
   },
   "outputs": [],
   "source": [
    "#Creating PDF object\n",
    "pdfFileObj = open(r\"F:\\PyData Proposal\\New folder\\creditcard.pdf\",'rb')"
   ]
  },
  {
   "cell_type": "code",
   "execution_count": 5,
   "metadata": {
    "collapsed": true
   },
   "outputs": [],
   "source": [
    "pdfReader = PyPDF2.PdfFileReader(pdfFileObj)"
   ]
  },
  {
   "cell_type": "code",
   "execution_count": 6,
   "metadata": {
    "collapsed": true
   },
   "outputs": [],
   "source": [
    "pageObj = pdfReader.getPage(0) "
   ]
  },
  {
   "cell_type": "code",
   "execution_count": 7,
   "metadata": {},
   "outputs": [
    {
     "data": {
      "text/plain": [
       "\"Credit Card informationPayment due on: 27 JUL 2007Jim Smith123 Cherry Lane st.956004 Marietta.Atlanta / GADateDescriptionBonusAmount24 JUN 2007 07:12Shell Marietta - Marie's$0.99$64.1025 JUN 2007 17:55Downson's Market - Atlanta$0.59$87.2225 JUN 2007 09:22KMART - GA$0.80$106.902 JUL 2007 18:12Florida Shadow Hotel$1.25$90.003 JUL 2007 21:12Cafe de'Orient - FL$0.02$12.203 JUL 2007 12:54Yuen Shirts$1.01$59.1010 JUL 2007 08:10Delta Airlines$2.00$120.0011 JUL 2007 19:01Publix - Marietta$0.40$82.9913 JUL 2007 08:11Jiffy Lube$0.10$40.2015 JUL 2007 07:40Starbucks Roswell Road$0.04$8.10TOTAL AMOUNT$7.20$670.81Customer Number12302139Card Number112321***3Card Limit1500Pay Date27 JUL 2007Amount$670.81\""
      ]
     },
     "execution_count": 7,
     "metadata": {},
     "output_type": "execute_result"
    }
   ],
   "source": [
    "# extracting text from page \n",
    "txt = pageObj.extractText()\n",
    "txt"
   ]
  },
  {
   "cell_type": "code",
   "execution_count": 8,
   "metadata": {
    "collapsed": true
   },
   "outputs": [],
   "source": [
    "# closing the pdf file object \n",
    "pdfFileObj.close() "
   ]
  },
  {
   "cell_type": "markdown",
   "metadata": {},
   "source": [
    "##### Extracting Pay Date"
   ]
  },
  {
   "cell_type": "code",
   "execution_count": 10,
   "metadata": {
    "collapsed": true
   },
   "outputs": [],
   "source": [
    "def extract_pay_date(txt):\n",
    "    pay_date = re.findall('due\\s*on\\s*:\\s*([0-9]{2}\\s*[A-z]+\\s*[0-9]{4})', txt)[0]\n",
    "    return pay_date"
   ]
  },
  {
   "cell_type": "markdown",
   "metadata": {},
   "source": [
    "##### Extracting Customer Number"
   ]
  },
  {
   "cell_type": "code",
   "execution_count": 12,
   "metadata": {
    "collapsed": true
   },
   "outputs": [],
   "source": [
    "def extract_cust_num(txt):\n",
    "    cust_num = re.findall('Customer\\s*Number\\s*([0-9]+)',txt)[0]\n",
    "    return cust_num"
   ]
  },
  {
   "cell_type": "markdown",
   "metadata": {},
   "source": [
    "##### Extracting Amount Due"
   ]
  },
  {
   "cell_type": "code",
   "execution_count": 13,
   "metadata": {
    "collapsed": true
   },
   "outputs": [],
   "source": [
    "def extract_amt(txt):\n",
    "    amt = re.findall('Amount([$0-9.]+)',txt)[1]\n",
    "    return amt"
   ]
  },
  {
   "cell_type": "markdown",
   "metadata": {},
   "source": [
    "##### Extracting Credit Card Limit"
   ]
  },
  {
   "cell_type": "code",
   "execution_count": 14,
   "metadata": {
    "collapsed": true
   },
   "outputs": [],
   "source": [
    "def extract_card_lim(txt):\n",
    "    card_lim = re.findall('Card\\s*Limit([0-9]+)',txt)[0]\n",
    "    return card_lim"
   ]
  },
  {
   "cell_type": "markdown",
   "metadata": {},
   "source": [
    "##### Extracting Card Number"
   ]
  },
  {
   "cell_type": "code",
   "execution_count": 15,
   "metadata": {
    "collapsed": true
   },
   "outputs": [],
   "source": [
    "def extract_card_num(txt):\n",
    "    card_num = re.findall('Card\\s*Number([0-9*]+)',txt)[0]\n",
    "    return card_num"
   ]
  },
  {
   "cell_type": "markdown",
   "metadata": {},
   "source": [
    "##### Extracting Customer Name"
   ]
  },
  {
   "cell_type": "code",
   "execution_count": 16,
   "metadata": {
    "collapsed": true
   },
   "outputs": [],
   "source": [
    "def extract_name(txt):\n",
    "    date = extract_pay_date(txt)\n",
    "    name = re.findall('%s([A-z\\s*]+)'%date,txt)[0]\n",
    "    return name"
   ]
  },
  {
   "cell_type": "markdown",
   "metadata": {},
   "source": [
    "##### Appending extracted values in a list"
   ]
  },
  {
   "cell_type": "code",
   "execution_count": 17,
   "metadata": {
    "collapsed": true
   },
   "outputs": [],
   "source": [
    "name, card_num, card_lim, amt, cust_num, pay_date = ([] for i in range(6))"
   ]
  },
  {
   "cell_type": "code",
   "execution_count": 20,
   "metadata": {},
   "outputs": [],
   "source": [
    "name.append(extract_name(txt))\n",
    "card_num.append(extract_card_num(txt))\n",
    "card_lim.append(extract_card_lim(txt))\n",
    "amt.append(extract_amt(txt))\n",
    "cust_num.append(extract_card_num(txt))\n",
    "pay_date.append(extract_pay_date(txt))"
   ]
  },
  {
   "cell_type": "markdown",
   "metadata": {},
   "source": [
    "##### Creating a dictionary"
   ]
  },
  {
   "cell_type": "code",
   "execution_count": 21,
   "metadata": {
    "collapsed": true
   },
   "outputs": [],
   "source": [
    "d = {\n",
    "    'Customer Name': name,\n",
    "    'Card Number': card_num,\n",
    "    'Card Limit': card_lim,\n",
    "    'Amount Due': amt,\n",
    "    'Customer Number': cust_num,\n",
    "    'Pay Date': pay_date\n",
    "}"
   ]
  },
  {
   "cell_type": "markdown",
   "metadata": {},
   "source": [
    "##### Creating the final Dataframe"
   ]
  },
  {
   "cell_type": "code",
   "execution_count": 22,
   "metadata": {},
   "outputs": [
    {
     "data": {
      "text/html": [
       "<div>\n",
       "<style>\n",
       "    .dataframe thead tr:only-child th {\n",
       "        text-align: right;\n",
       "    }\n",
       "\n",
       "    .dataframe thead th {\n",
       "        text-align: left;\n",
       "    }\n",
       "\n",
       "    .dataframe tbody tr th {\n",
       "        vertical-align: top;\n",
       "    }\n",
       "</style>\n",
       "<table border=\"1\" class=\"dataframe\">\n",
       "  <thead>\n",
       "    <tr style=\"text-align: right;\">\n",
       "      <th></th>\n",
       "      <th>Amount Due</th>\n",
       "      <th>Card Limit</th>\n",
       "      <th>Card Number</th>\n",
       "      <th>Customer Name</th>\n",
       "      <th>Customer Number</th>\n",
       "      <th>Pay Date</th>\n",
       "    </tr>\n",
       "  </thead>\n",
       "  <tbody>\n",
       "    <tr>\n",
       "      <th>0</th>\n",
       "      <td>$670.81</td>\n",
       "      <td>1500</td>\n",
       "      <td>112321***3</td>\n",
       "      <td>Jim Smith</td>\n",
       "      <td>112321***3</td>\n",
       "      <td>27 JUL 2007</td>\n",
       "    </tr>\n",
       "  </tbody>\n",
       "</table>\n",
       "</div>"
      ],
      "text/plain": [
       "  Amount Due Card Limit Card Number Customer Name Customer Number     Pay Date\n",
       "0    $670.81       1500  112321***3     Jim Smith      112321***3  27 JUL 2007"
      ]
     },
     "execution_count": 22,
     "metadata": {},
     "output_type": "execute_result"
    }
   ],
   "source": [
    "pd.DataFrame(d)"
   ]
  },
  {
   "cell_type": "code",
   "execution_count": null,
   "metadata": {
    "collapsed": true
   },
   "outputs": [],
   "source": []
  },
  {
   "cell_type": "code",
   "execution_count": null,
   "metadata": {
    "collapsed": true
   },
   "outputs": [],
   "source": []
  }
 ],
 "metadata": {
  "kernelspec": {
   "display_name": "Python 3",
   "language": "python",
   "name": "python3"
  },
  "language_info": {
   "codemirror_mode": {
    "name": "ipython",
    "version": 3
   },
   "file_extension": ".py",
   "mimetype": "text/x-python",
   "name": "python",
   "nbconvert_exporter": "python",
   "pygments_lexer": "ipython3",
   "version": "3.6.2"
  }
 },
 "nbformat": 4,
 "nbformat_minor": 2
}
